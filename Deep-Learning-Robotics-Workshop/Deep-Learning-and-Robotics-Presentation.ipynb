{
  "nbformat": 4,
  "nbformat_minor": 0,
  "metadata": {
    "colab": {
      "name": "Deep-Learning-and-Robotics-Presentation.ipynb",
      "provenance": [],
      "collapsed_sections": [
        "74eFOH6a-AT-"
      ],
      "mount_file_id": "1yOmcs7r5oDihYG3AIDwDhJET5EBVPZOp",
      "authorship_tag": "ABX9TyM/oz3eoJY5rygQYpuYNvT8",
      "include_colab_link": true
    },
    "kernelspec": {
      "name": "python3",
      "display_name": "Python 3"
    },
    "accelerator": "GPU"
  },
  "cells": [
    {
      "cell_type": "markdown",
      "metadata": {
        "id": "view-in-github",
        "colab_type": "text"
      },
      "source": [
        "<a href=\"https://colab.research.google.com/github/ShayanRiyaz/My-Technical-Workshops/blob/master/Deep-Learning-Robotics-Workshop/Deep-Learning-and-Robotics-Presentation.ipynb\" target=\"_parent\"><img src=\"https://colab.research.google.com/assets/colab-badge.svg\" alt=\"Open In Colab\"/></a>"
      ]
    },
    {
      "cell_type": "markdown",
      "metadata": {
        "id": "IwWAVY2FAVMT"
      },
      "source": [
        "<p align=\"center\">\n",
        "<img src=\"https://raw.githubusercontent.com/ShayanRiyaz/My-Technical-Workshops/master/Deep-Learning-Robotics-Workshop/assets/Cover-Photo.png\">\n",
        "</p>"
      ]
    },
    {
      "cell_type": "markdown",
      "metadata": {
        "id": "74eFOH6a-AT-"
      },
      "source": [
        "# <h1 align=\"center\">Deep Learning and Robotics Using TensorFlow and Unity</h1>\n",
        "#### <h4 align=\"center\">*By Shayan Riyaz*</h4>"
      ]
    },
    {
      "cell_type": "markdown",
      "metadata": {
        "id": "NfvU2566FGNZ"
      },
      "source": [
        "*Special shoutout to [Biswajit Sahoo](https://biswajitsahoo1111.github.io/) and [Alexandre Ribard](https://github.com/AlexRibard)* who helped me throughout the Machine Learning part of the project.\n"
      ]
    },
    {
      "cell_type": "markdown",
      "metadata": {
        "id": "hMnRk7arB6a9"
      },
      "source": [
        "# <h1 align=\"center\">Project</h1>"
      ]
    },
    {
      "cell_type": "markdown",
      "metadata": {
        "id": "zzfiEwf88wJU"
      },
      "source": [
        "<p align=\"center\">\n",
        "<img src=\"https://raw.githubusercontent.com/ShayanRiyaz/My-Technical-Workshops/master/Deep-Learning-Robotics-Workshop/assets/Arduino.png\" width=\"100\">\n",
        "</p>\n",
        "\n"
      ]
    },
    {
      "cell_type": "markdown",
      "metadata": {
        "id": "CQqjS6kIijo3"
      },
      "source": [
        "<p align=\"center\">\n",
        "<img src=\"https://raw.githubusercontent.com/ShayanRiyaz/My-Technical-Workshops/master/Deep-Learning-Robotics-Workshop/assets/controller.jpeg\" width=\"300\">\n",
        "</p>\n"
      ]
    },
    {
      "cell_type": "markdown",
      "metadata": {
        "id": "d21TLuq4BtWO"
      },
      "source": [
        "## Problem Statement\n",
        "\n",
        "The project intially started as a research project that involved analyzing the learning time taken to understand sign language. For reference I wrote a small notebook for it and uploaded it to Kaggle. You can find it [here](https://www.kaggle.com/shayanriyaz/gesture-classification-using-machine-learning).\n",
        "\n",
        "\n",
        "Our goal for this project was to use the the glove shown above as a controller for a game. This was achieved successfully by using Sensor Fusion to decrease the drift in our IMUs and TensorFlow as our framework for the Deep Learning Model.\n"
      ]
    },
    {
      "cell_type": "markdown",
      "metadata": {
        "id": "zBwbtOWR4Kth"
      },
      "source": [
        "### Intertial Measurment Units\n",
        "\n",
        "The Inertial Measurment Unit's used for this project were custom designed by a professor at California State University, Long Beach.\n",
        "\n",
        "\n",
        "**What is an IMU?**\n",
        "\n",
        "An IMU is a specific type of sensor that measures angular rate, force and sometimes magnetic field. IMUs are composed of a 3-axis accelerometer and a 3-axis gyroscope, which would be considered a 6-axis IMU. They can also include an additional 3-axis magnetometer, which would be considered a 9-axis IMU. \n",
        "\n",
        "Technically, the term “IMU” refers to just the sensor, but IMUs are often paired with sensor fusion software which combines data from multiple sensors to provide measures of orientation and heading. In common usage, the term “IMU” may be used to refer to the combination of the sensor and sensor fusion software. You can read more abou IMUs [here](https://www.ceva-dsp.com/ourblog/what-is-an-imu-sensor/).\n",
        "\n",
        "<p align=\"center\">\n",
        "<img src=\"https://www.ceva-dsp.com/ourblog/wp-content/uploads/sites/3/2018/11/HIL-What-is-an-IMU-wk-1.jpg\" width=\"500\">\n",
        "</p>"
      ]
    },
    {
      "cell_type": "markdown",
      "metadata": {
        "id": "6ZBXMHIE7EkZ"
      },
      "source": [
        "###  Artifical Intelligence Model\n",
        "\n",
        "Since our case was specific, we trained, what we call, a **Narrow AI**.\n",
        "\n",
        "**What is a Narrow AI?**\n",
        "\n",
        "Narrow AI is a term used to describe artificial intelligence systems that are specified to handle a singular or limited task. The antithesis to Narrow AI, sometimes referred to as weak AI, is called strong AI. Strong AI, unlike Narrow AI, is capable of handling a wide range of tasks rather than one particular task or problem. This variation of artificial intelligence can be roughly conceptualized as a foundation for neural networks emulating sentience or consciousness.\n",
        "\n",
        "<p align=\"center\">\n",
        "<img src=\"https://images.deepai.org/django-summernote/2019-05-24/a5359efc-56f2-4ed6-b435-ecae23e51310.png\">\n",
        "</p>"
      ]
    },
    {
      "cell_type": "markdown",
      "metadata": {
        "id": "ofv0bc_zDvHe"
      },
      "source": [
        "### Where I went to Look for Help *(yeah...)*\n",
        "- **GitHub Issues**\n",
        "  - [Barracuda - Issue - 39](https://github.com/Unity-Technologies/barracuda-release/issues/39)\n",
        "  - [Barracuda - Issue - 32](https://github.com/Unity-Technologies/barracuda-release/issues/32)\n",
        "  - [Onnx - Discussion - 2745](https://github.com/onnx/onnx/discussions/2745)\n",
        "- **Stack Overflow**\n",
        "  - [Create a new txt file instead of appending in c sharp](https://stackoverflow.com/questions/61197164/create-a-new-txt-file-instead-of-appending-in-c-sharp)\n",
        "  - [How to read a csv file and create a new csv file after every nth number of rows](https://stackoverflow.com/questions/61263726/how-to-read-a-csv-file-and-create-a-new-csv-file-after-every-nth-number-of-rows)\n",
        "  - [How to parse a string stream from pyser al and compare with a pre specified value](https://stackoverflow.com/questions/60405560/how-to-parse-a-string-stream-from-pyserial-and-compare-with-a-pre-specified-value)\n",
        "  - [Function to find available serial port and open it for unity](https://stackoverflow.com/questions/61198354/function-to-find-available-serial-port-and-open-it-for-unity)\n",
        "  - [Increment file everytime script is called c sharp](https://stackoverflow.com/questions/61237915/increment-file-everytime-script-is-called-c-sharp)\n",
        "  - [How to make a prediction with the tensorflow model and frozen-graph](https://stackoverflow.com/questions/61334223/how-to-make-a-prediction-with-the-tensorflow-model-and-frozen-graph)\n",
        "  - [Convert jagged string to jagged float](https://stackoverflow.com/questions/61583092/convert-jagged-string-to-jagged-float)\n",
        "\n",
        "\n",
        "**In addition to this I also had email exchanges with multiple people who helped me understand TensorFlow and Unity better.**\n"
      ]
    },
    {
      "cell_type": "markdown",
      "metadata": {
        "id": "69idRgKXLVaM"
      },
      "source": [
        "# <h1 align=\"center\">Data Preprocessing and Ingestion</h1>\n",
        "\n",
        "<p align=\"center\">\n",
        "<img src=\"https://upload.wikimedia.org/wikipedia/commons/thumb/0/05/Scikit_learn_logo_small.svg/1200px-Scikit_learn_logo_small.svg.png\" width=\"200\">\n",
        "</p>\n",
        "\n",
        "*I won't be covering the data preprocessing in this notebook, however I have uploaded a repository on GitHub where I wrote a program to prepare my data.*\n",
        "\n"
      ]
    },
    {
      "cell_type": "markdown",
      "metadata": {
        "id": "yAsEi2v0MwVY"
      },
      "source": [
        "<p align=\"center\">\n",
        "<img src=\"https://drive.google.com/uc?export=view&id=1nmPAgvtZFeOm7E7bzP-WOYSeVz-2St6I\" width=\"100\">\n",
        "\n",
        "<a href=\"https://raw.githubusercontent.com/ShayanRiyaz/My-Technical-Workshops/master/Deep-Learning-Robotics-Workshop/assets/GitHub.png\" ><p align=\"center\">Excel Bulk Processor</p></a>\n",
        "\n",
        "</p>\n",
        "\n",
        "\n"
      ]
    },
    {
      "cell_type": "code",
      "metadata": {
        "id": "dvQijg7HP3zZ"
      },
      "source": [
        "import os\n",
        "import glob\n",
        "import numpy as np\n",
        "np.random.seed(42) # Answer to the ultimate question"
      ],
      "execution_count": null,
      "outputs": []
    },
    {
      "cell_type": "markdown",
      "metadata": {
        "id": "NnpF51kFQmwO"
      },
      "source": [
        "### Checking the data"
      ]
    },
    {
      "cell_type": "code",
      "metadata": {
        "id": "IQUFeVygV1OZ"
      },
      "source": [
        "!unzip /content/drive/My\\ Drive/Deep-Learning-Robotics-Presentation/data/Unity_Data"
      ],
      "execution_count": null,
      "outputs": []
    },
    {
      "cell_type": "code",
      "metadata": {
        "id": "JQG5tlzRQGTf",
        "outputId": "106debb6-4497-4be6-c16b-06aabdaa228a",
        "colab": {
          "base_uri": "https://localhost:8080/",
          "height": 191
        }
      },
      "source": [
        "glob.glob(\"./Unity_Data/*\")"
      ],
      "execution_count": null,
      "outputs": [
        {
          "output_type": "execute_result",
          "data": {
            "text/plain": [
              "['./Unity_Data/Left',\n",
              " './Unity_Data/Forward',\n",
              " './Unity_Data/Right',\n",
              " './Unity_Data/Crawl',\n",
              " './Unity_Data/Grab',\n",
              " './Unity_Data/Scissors',\n",
              " './Unity_Data/Uppp',\n",
              " './Unity_Data/Rock',\n",
              " './Unity_Data/Paper',\n",
              " './Unity_Data/Wave']"
            ]
          },
          "metadata": {
            "tags": []
          },
          "execution_count": 3
        }
      ]
    },
    {
      "cell_type": "code",
      "metadata": {
        "id": "laGt3t8XQssi",
        "outputId": "dec35f80-1adc-4805-f521-6723421400ab",
        "colab": {
          "base_uri": "https://localhost:8080/",
          "height": 191
        }
      },
      "source": [
        "glob.glob(\"./Unity_Data/Crawl/*\")[:10]  # See 10 results. Otherwise all 800 files will be shown."
      ],
      "execution_count": null,
      "outputs": [
        {
          "output_type": "execute_result",
          "data": {
            "text/plain": [
              "['./Unity_Data/Crawl/Crawl_293.csv',\n",
              " './Unity_Data/Crawl/Crawl_080.csv',\n",
              " './Unity_Data/Crawl/Crawl_378.csv',\n",
              " './Unity_Data/Crawl/Crawl_336.csv',\n",
              " './Unity_Data/Crawl/Crawl_105.csv',\n",
              " './Unity_Data/Crawl/Crawl_334.csv',\n",
              " './Unity_Data/Crawl/Crawl_237.csv',\n",
              " './Unity_Data/Crawl/Crawl_301.csv',\n",
              " './Unity_Data/Crawl/Crawl_159.csv',\n",
              " './Unity_Data/Crawl/Crawl_255.csv']"
            ]
          },
          "metadata": {
            "tags": []
          },
          "execution_count": 4
        }
      ]
    },
    {
      "cell_type": "markdown",
      "metadata": {
        "id": "4hwCSWJ7RMtm"
      },
      "source": [
        "- To train a model you have to create a `training set` and a `test_set`\n",
        "- You will also create a `validation set`.  .\n",
        "\n",
        "- Usually `training set` contains 75% of the whole data and `test set` contains rest. \n",
        "- Also, `training set` should contain data pertaining to each gesture. Here is how we do it.\n",
        "- Before we divide your data into training and test set, make sure to shuffle it first. \n",
        "- For splitting we will `train_test_split` of `scikit-learn` that automatically shuffles the file names."
      ]
    },
    {
      "cell_type": "code",
      "metadata": {
        "id": "sijt2zKlRWnw"
      },
      "source": [
        "Craw_files = glob.glob(\"./Unity_Data/Crawl/*\")\n",
        "Forw_files = glob.glob(\"./Unity_Data/Forward/*\")\n",
        "Grab_files = glob.glob(\"./Unity_Data/Grab/*\")\n",
        "Left_files = glob.glob(\"./Unity_Data/Left/*\")\n",
        "Papr_files = glob.glob(\"./Unity_Data/Paper/*\")\n",
        "Righ_files = glob.glob(\"./Unity_Data/Right/*\")\n",
        "Rock_files = glob.glob(\"./Unity_Data/Rock/*\")\n",
        "Scis_files = glob.glob(\"./Unity_Data/Scissors/*\")\n",
        "Uppp_files = glob.glob(\"./Unity_Data/Uppp/*\")\n",
        "Wave_files = glob.glob(\"./Unity_Data/Wave/*\")"
      ],
      "execution_count": null,
      "outputs": []
    },
    {
      "cell_type": "markdown",
      "metadata": {
        "id": "ykElpHoAR1S9"
      },
      "source": [
        "Now, from each gesture type we will select 75% files for trianing and rest for testing."
      ]
    },
    {
      "cell_type": "code",
      "metadata": {
        "id": "JYBpUwWbR42n"
      },
      "source": [
        "from sklearn.model_selection import train_test_split"
      ],
      "execution_count": null,
      "outputs": []
    },
    {
      "cell_type": "code",
      "metadata": {
        "id": "vI2eFjvDR6e8"
      },
      "source": [
        "Craw_train, Craw_test = train_test_split(Craw_files, test_size = .25, random_state = 42)\n",
        "Forw_train, Forw_test = train_test_split(Forw_files, test_size = .25, random_state = 42)\n",
        "Grab_train, Grab_test = train_test_split(Grab_files, test_size = .25, random_state = 42)\n",
        "Left_train, Left_test = train_test_split(Left_files, test_size = .25, random_state = 42)\n",
        "Papr_train, Papr_test = train_test_split(Papr_files, test_size = .25, random_state = 42)\n",
        "Righ_train, Righ_test = train_test_split(Righ_files, test_size = .25, random_state = 42)\n",
        "Rock_train, Rock_test = train_test_split(Rock_files, test_size = .25, random_state = 42)\n",
        "Scis_train, Scis_test = train_test_split(Scis_files, test_size = .25, random_state = 42)\n",
        "Uppp_train, Uppp_test = train_test_split(Uppp_files, test_size = .25, random_state = 42)\n",
        "Wave_train, Wave_test = train_test_split(Wave_files, test_size = .25, random_state = 42)\n"
      ],
      "execution_count": null,
      "outputs": []
    },
    {
      "cell_type": "code",
      "metadata": {
        "id": "L1WanXFLSKP7"
      },
      "source": [
        "train_files_full = Craw_train + Forw_train + Grab_train + Left_train + Papr_train + Righ_train + Rock_train + Scis_train + Uppp_train + Wave_train\n",
        "test_files = Craw_test + Forw_test + Grab_test + Left_test + Papr_test + Righ_test + Rock_test + Scis_test + Uppp_test + Wave_test"
      ],
      "execution_count": null,
      "outputs": []
    },
    {
      "cell_type": "code",
      "metadata": {
        "id": "rtJSulNWSQQT"
      },
      "source": [
        "train_files, val_files = train_test_split(train_files_full, test_size = .25, random_state = 42)"
      ],
      "execution_count": null,
      "outputs": []
    },
    {
      "cell_type": "markdown",
      "metadata": {
        "id": "CxYyZcQGSV4Y"
      },
      "source": [
        "**Next:**\n",
        "- We will randomize the ```training set``` and ```validation set```files.\n",
        "- There is no need to randomize ```test_set``` files."
      ]
    },
    {
      "cell_type": "code",
      "metadata": {
        "id": "X2z_krJSSVm4"
      },
      "source": [
        "train_files = np.random.choice(train_files,\n",
        "                               size = len(train_files),\n",
        "                               replace = False)\n",
        "\n",
        "val_files = np.random.choice(val_files,\n",
        "                             size = len(val_files),\n",
        "                             replace = False)"
      ],
      "execution_count": null,
      "outputs": []
    },
    {
      "cell_type": "code",
      "metadata": {
        "id": "R0OZKL_8SnvZ",
        "outputId": "96349d0e-9669-4729-ff85-7100c17155a1",
        "colab": {
          "base_uri": "https://localhost:8080/",
          "height": 69
        }
      },
      "source": [
        "print(\"Total files in trainig set = \", len(train_files)) # 75% from Craw + 75% from Forw + 75% from Grab + ...............+ 75% _____ \n",
        "print(\"Total files in the validation set = \", len(val_files))\n",
        "print(\"Total files in test set = \", len(test_files))"
      ],
      "execution_count": null,
      "outputs": [
        {
          "output_type": "stream",
          "text": [
            "Total files in trainig set =  2250\n",
            "Total files in the validation set =  750\n",
            "Total files in test set =  1000\n"
          ],
          "name": "stdout"
        }
      ]
    },
    {
      "cell_type": "markdown",
      "metadata": {
        "id": "8ab77uqkLLID"
      },
      "source": [
        "# <h1 align=\"center\">Data preprocessing for TensorFlow</h1>\n",
        "\n",
        "<p align=\"center\">\n",
        "<img src=\"https://raw.githubusercontent.com/ShayanRiyaz/My-Technical-Workshops/master/Deep-Learning-Robotics-Workshop/assets/TensorFlow.png\" width =\"100\">\n",
        "</p>"
      ]
    },
    {
      "cell_type": "markdown",
      "metadata": {
        "id": "sNnanrzTTOD2"
      },
      "source": [
        "### Write a generator that reads data in chunks and preprocesses it\n",
        "\n",
        "Generator are similar to functions with one important difference.\n",
        "- While functions produce all their outputs at once, generators produce their outputs one by one and that too when asked.\n",
        "- `yield` keyword converts a function into a generator.\n",
        "- Generators can run for a fixed number of times or indefinitely depending on the loop structure used inside it.\n",
        "- For out application, we will use a generator that runs indefinitely."
      ]
    },
    {
      "cell_type": "markdown",
      "metadata": {
        "id": "0wk_K56lUI_o"
      },
      "source": [
        "The following generator takes a list of file names as first input. The second argument is `batch_size`.\n",
        "- `Batch_size` determines how many files we will process at one go. This is determined by how much memory do we have. If all data can be loaded into memory, there is no need for generators. \n",
        "- In case our data size is huge, we can process chunks of it.  \n",
        "\n",
        "As we will be solving a classification problem, we have to assign labels to each raw data. We will use following labels for convenience.\n",
        "\n",
        "|Class| Label|\n",
        "|-----|------|\n",
        "|Craw| 0|\n",
        "|Forw| 1|\n",
        "|Grab| 2|\n",
        "|Left| 3|\n",
        "|.......|  |\n",
        "|Uppp| 9|\n",
        "\n",
        "\n",
        "\n",
        "The generator will `yield` both data and labels."
      ]
    },
    {
      "cell_type": "code",
      "metadata": {
        "id": "rKTGKRwESyEi"
      },
      "source": [
        "import tensorflow as tf\n",
        "from tensorflow.keras import layers\n",
        "import pandas as pd\n",
        "import re               # To match regular expression for extracting labels"
      ],
      "execution_count": null,
      "outputs": []
    },
    {
      "cell_type": "code",
      "metadata": {
        "id": "XkRBiVSnUU0U",
        "outputId": "03a2e6fb-9d1b-48d8-8b1e-21153b27ed36",
        "colab": {
          "base_uri": "https://localhost:8080/",
          "height": 34
        }
      },
      "source": [
        " print(train_files[190][13:17])"
      ],
      "execution_count": null,
      "outputs": [
        {
          "output_type": "stream",
          "text": [
            "Left\n"
          ],
          "name": "stdout"
        }
      ]
    },
    {
      "cell_type": "code",
      "metadata": {
        "id": "MYRsaAROLER3"
      },
      "source": [
        "def tf_data_generator(file_list, batch_size = 20):\n",
        "    i = 0\n",
        "    while True:\n",
        "        if i*batch_size >= len(file_list):  \n",
        "            i = 0\n",
        "            np.random.shuffle(file_list)\n",
        "        else:\n",
        "            file_chunk = file_list[i*batch_size:(i+1)*batch_size] \n",
        "            data = []\n",
        "            labels = []\n",
        "            label_classes = tf.constant([\"Craw\",\"Forw\",\"Grab\",\"Left\",\"Pape\",\"Righ\",\"Rock\",\"Scis\",\"Uppp\",\"Wave\"]) # This line has changed.\n",
        "            for file in file_chunk:\n",
        "                temp = pd.read_csv(open(file,'r'), header = None)\n",
        "                data.append(temp.values) \n",
        "                pattern = tf.constant(eval(\"file[13:17]\"))  # This line has changed\n",
        "                for j in range(len(label_classes)):\n",
        "                    if re.match(pattern.numpy(), label_classes[j].numpy()):  # This line has changed.\n",
        "                        labels.append(j)\n",
        "            data = np.asarray(data).reshape(-1,20,10)\n",
        "            labels = np.asarray(labels)\n",
        "            yield data, labels\n",
        "            i = i + 1"
      ],
      "execution_count": null,
      "outputs": []
    },
    {
      "cell_type": "code",
      "metadata": {
        "id": "wyX3kYOIXg1B"
      },
      "source": [
        "batch_size = 20\n",
        "train_dataset = tf.data.Dataset.from_generator(tf_data_generator, args = [train_files, batch_size], \n",
        "                                              output_shapes = ((None,20,10),(None,)),\n",
        "                                              output_types = (tf.float32, tf.float32))\n",
        "\n",
        "val_dataset = tf.data.Dataset.from_generator(tf_data_generator, args = [val_files, batch_size], \n",
        "                                              output_shapes = ((None,20,10),(None,)),\n",
        "                                              output_types = (tf.float32, tf.float32))\n",
        "\n",
        "test_dataset = tf.data.Dataset.from_generator(tf_data_generator, args = [test_files, batch_size],\n",
        "                                             output_shapes = ((None,20,10),(None,)),\n",
        "                                             output_types = (tf.float32, tf.float32))"
      ],
      "execution_count": null,
      "outputs": []
    },
    {
      "cell_type": "code",
      "metadata": {
        "id": "_XPkM6cNXiB7",
        "outputId": "5b2adfaa-dba0-483d-effc-2b6177bdf67a",
        "colab": {
          "base_uri": "https://localhost:8080/",
          "height": 121
        }
      },
      "source": [
        "print(f'Train Dataset: \\n{train_dataset}')\n",
        "print(f'Validation Dataset: \\n{val_dataset}')\n",
        "print(f'Test Dataset: \\n{test_dataset}')"
      ],
      "execution_count": null,
      "outputs": [
        {
          "output_type": "stream",
          "text": [
            "Train Dataset: \n",
            "<FlatMapDataset shapes: ((None, 20, 10), (None,)), types: (tf.float32, tf.float32)>\n",
            "Validation Dataset: \n",
            "<FlatMapDataset shapes: ((None, 20, 10), (None,)), types: (tf.float32, tf.float32)>\n",
            "Test Dataset: \n",
            "<FlatMapDataset shapes: ((None, 20, 10), (None,)), types: (tf.float32, tf.float32)>\n"
          ],
          "name": "stdout"
        }
      ]
    },
    {
      "cell_type": "markdown",
      "metadata": {
        "id": "m_r70VXgLDe3"
      },
      "source": [
        "# <h1 align=\"center\">TensorFlow-Keras Model Training</h1>\n",
        "\n",
        "<p align=\"center\">\n",
        "<img src=\"https://raw.githubusercontent.com/ShayanRiyaz/My-Technical-Workshops/master/Deep-Learning-Robotics-Workshop/assets/TensorFlow.png\" width =\"100\">\n",
        "<img src=\"https://raw.githubusercontent.com/ShayanRiyaz/My-Technical-Workshops/master/Deep-Learning-Robotics-Workshop/assets/Keras.png\"  width =\"100\">\n",
        "\n",
        "\n",
        "</p>"
      ]
    },
    {
      "cell_type": "code",
      "metadata": {
        "id": "fETzISJAX7e1",
        "outputId": "d2ecef17-e9de-47cb-ceea-6a66883d522d",
        "colab": {
          "base_uri": "https://localhost:8080/",
          "height": 364
        }
      },
      "source": [
        "model = tf.keras.Sequential([\n",
        "        layers.InputLayer(input_shape=(20, 10), name=\"input\"),\n",
        "        layers.Flatten(input_shape=(20, 10),name=\"flatten\"),\n",
        "        layers.Dropout(0.2, name = \"dropout1\"),\n",
        "        layers.Dense(128, activation=\"relu\",name = \"DenseOne\"),\n",
        "        layers.Dropout(0.2, name = \"dropout2\"),\n",
        "        layers.Dense(256,activation = \"relu\", name = \"DenseTwo\"),\n",
        "        layers.Dense(10, activation=\"softmax\",name=\"output\")\n",
        "    ],\n",
        "        name=\"DeepController\")\n",
        "model.summary()"
      ],
      "execution_count": null,
      "outputs": [
        {
          "output_type": "stream",
          "text": [
            "Model: \"DeepController\"\n",
            "_________________________________________________________________\n",
            "Layer (type)                 Output Shape              Param #   \n",
            "=================================================================\n",
            "flatten (Flatten)            (None, 200)               0         \n",
            "_________________________________________________________________\n",
            "dropout1 (Dropout)           (None, 200)               0         \n",
            "_________________________________________________________________\n",
            "DenseOne (Dense)             (None, 128)               25728     \n",
            "_________________________________________________________________\n",
            "dropout2 (Dropout)           (None, 128)               0         \n",
            "_________________________________________________________________\n",
            "DenseTwo (Dense)             (None, 256)               33024     \n",
            "_________________________________________________________________\n",
            "output (Dense)               (None, 10)                2570      \n",
            "=================================================================\n",
            "Total params: 61,322\n",
            "Trainable params: 61,322\n",
            "Non-trainable params: 0\n",
            "_________________________________________________________________\n"
          ],
          "name": "stdout"
        }
      ]
    },
    {
      "cell_type": "code",
      "metadata": {
        "id": "XoCC6cpAfvf7",
        "outputId": "aee0186a-87bc-47fa-b66c-b3ba522558b9",
        "colab": {
          "base_uri": "https://localhost:8080/",
          "height": 661
        }
      },
      "source": [
        "tf.keras.utils.plot_model(\n",
        "    model,\n",
        "    to_file=\"model.png\",\n",
        "    show_layer_names=True,\n",
        "    rankdir=\"TB\",\n",
        "    expand_nested=True,\n",
        "    dpi=96,\n",
        ")\n"
      ],
      "execution_count": null,
      "outputs": [
        {
          "output_type": "execute_result",
          "data": {
            "image/png": "[encoded data removed]",
            "text/plain": [
              "<IPython.core.display.Image object>"
            ]
          },
          "metadata": {
            "tags": []
          },
          "execution_count": 21
        }
      ]
    },
    {
      "cell_type": "markdown",
      "metadata": {
        "id": "IMgk2MeJsmjn"
      },
      "source": [
        "<p align=\"center\">\n",
        "<img src=\"https://raw.githubusercontent.com/ShayanRiyaz/My-Technical-Workshops/master/Deep-Learning-Robotics-Workshop/assets/neural_net.gif\" width =\"450\">\n",
        "<img src=\"https://raw.githubusercontent.com/ShayanRiyaz/My-Technical-Workshops/master/Deep-Learning-Robotics-Workshop/assets/Flatten.gif\" width =\"250\">\n",
        "<img src=\"https://raw.githubusercontent.com/ShayanRiyaz/My-Technical-Workshops/master/Deep-Learning-Robotics-Workshop/assets/dropout.gif\" width =\"250\">\n",
        "</p>\n",
        "\n",
        "                          Dense Neural Network                                 Flatten                            Dropout"
      ]
    },
    {
      "cell_type": "code",
      "metadata": {
        "id": "iXm9sTA4X_D1",
        "outputId": "bbece145-a4c1-41cc-a0e9-1ee9140b629c",
        "colab": {
          "base_uri": "https://localhost:8080/",
          "height": 52
        }
      },
      "source": [
        "print(\"Train_dataset: \",train_dataset)\n",
        "print(\"Batch_Size: \", batch_size)"
      ],
      "execution_count": null,
      "outputs": [
        {
          "output_type": "stream",
          "text": [
            "Train_dataset:  <FlatMapDataset shapes: ((None, 20, 10), (None,)), types: (tf.float32, tf.float32)>\n",
            "Batch_Size:  20\n"
          ],
          "name": "stdout"
        }
      ]
    },
    {
      "cell_type": "code",
      "metadata": {
        "id": "4KX3L82MYBHR"
      },
      "source": [
        "model.compile(loss = \"sparse_categorical_crossentropy\",\n",
        "              optimizer = \"adam\",\n",
        "              metrics = [\"accuracy\"]) "
      ],
      "execution_count": null,
      "outputs": []
    },
    {
      "cell_type": "markdown",
      "metadata": {
        "id": "axhSNT1fgpEB"
      },
      "source": [
        "### Set `train_step` and `steps` for evaluation."
      ]
    },
    {
      "cell_type": "markdown",
      "metadata": {
        "id": "HSzJWRNzgl7b"
      },
      "source": [
        "There are 2560 files in training set. Batch_size is 20. So if the generator runs 128 times, it will correspond to one epoch. Therefore, we should set `steps_per_epoch` to 128.\n",
        "\n",
        "For validation steps total number of validation files are 640 and batch size is 20. Therefore if we run the generator 32 times we will have one epoch. Therefore `validation_steps` should be 32.\n",
        "\n",
        "For our test set total number of files are 800. and batch size is 20 therefore 40 cycles = 1 epoch. \n",
        "Similarly, din `model.evaluate()`, `steps = 40`."
      ]
    },
    {
      "cell_type": "code",
      "metadata": {
        "id": "VreGUAgoYCJL"
      },
      "source": [
        "STEPS_PER_EPOCH = 128\n",
        "EPOCHS = 20\n",
        "VALIDATION_STEPS = 32"
      ],
      "execution_count": null,
      "outputs": []
    },
    {
      "cell_type": "code",
      "metadata": {
        "id": "H3gtymweYHNF",
        "outputId": "e5d2cda6-8041-4f32-cf76-19ba14225a31",
        "colab": {
          "base_uri": "https://localhost:8080/",
          "height": 121
        }
      },
      "source": [
        "print(\"Train_dataset: \",train_dataset)\n",
        "print(\"Batch_Size: \", batch_size)\n",
        "print(\"steps_per_epoch: \", STEPS_PER_EPOCH)\n",
        "print(\"epochs: \", EPOCHS)\n",
        "print(\"Validation_data: \",val_dataset)\n",
        "print(\"Validation_steps: \", VALIDATION_STEPS)"
      ],
      "execution_count": null,
      "outputs": [
        {
          "output_type": "stream",
          "text": [
            "Train_dataset:  <FlatMapDataset shapes: ((None, 20, 10), (None,)), types: (tf.float32, tf.float32)>\n",
            "Batch_Size:  20\n",
            "steps_per_epoch:  128\n",
            "epochs:  20\n",
            "Validation_data:  <FlatMapDataset shapes: ((None, 20, 10), (None,)), types: (tf.float32, tf.float32)>\n",
            "Validation_steps:  32\n"
          ],
          "name": "stdout"
        }
      ]
    },
    {
      "cell_type": "markdown",
      "metadata": {
        "id": "R4b8jSIS-1oz"
      },
      "source": [
        "## Take 1"
      ]
    },
    {
      "cell_type": "code",
      "metadata": {
        "id": "AG3N0Nv2YKjj",
        "outputId": "16685fbf-28ff-40fc-db2c-2aebcb80d25e",
        "colab": {
          "base_uri": "https://localhost:8080/",
          "height": 712
        }
      },
      "source": [
        "history = model.fit(train_dataset,\n",
        "                    steps_per_epoch = STEPS_PER_EPOCH, # steps_per_epoch = batch_size*steps\n",
        "                    epochs = EPOCHS,\n",
        "                    validation_data = val_dataset,\n",
        "                    validation_steps = VALIDATION_STEPS # validation_steps = batch_size*steps\n",
        "                    )"
      ],
      "execution_count": null,
      "outputs": [
        {
          "output_type": "stream",
          "text": [
            "Epoch 1/20\n",
            "128/128 [==============================] - 10s 76ms/step - loss: 12.5524 - accuracy: 0.6733 - val_loss: 0.8079 - val_accuracy: 0.9187\n",
            "Epoch 2/20\n",
            "128/128 [==============================] - 10s 75ms/step - loss: 2.7207 - accuracy: 0.8157 - val_loss: 0.7031 - val_accuracy: 0.8813\n",
            "Epoch 3/20\n",
            "128/128 [==============================] - 10s 75ms/step - loss: 2.2624 - accuracy: 0.8318 - val_loss: 0.2835 - val_accuracy: 0.9344\n",
            "Epoch 4/20\n",
            "128/128 [==============================] - 10s 74ms/step - loss: 1.5222 - accuracy: 0.8675 - val_loss: 0.3621 - val_accuracy: 0.9359\n",
            "Epoch 5/20\n",
            "128/128 [==============================] - 10s 78ms/step - loss: 1.2038 - accuracy: 0.8761 - val_loss: 0.3826 - val_accuracy: 0.9531\n",
            "Epoch 6/20\n",
            "128/128 [==============================] - 10s 75ms/step - loss: 1.1131 - accuracy: 0.8769 - val_loss: 0.2138 - val_accuracy: 0.9641\n",
            "Epoch 7/20\n",
            "128/128 [==============================] - 10s 76ms/step - loss: 0.9526 - accuracy: 0.8867 - val_loss: 0.2619 - val_accuracy: 0.9469\n",
            "Epoch 8/20\n",
            "128/128 [==============================] - 10s 74ms/step - loss: 0.7907 - accuracy: 0.8882 - val_loss: 0.1569 - val_accuracy: 0.9547\n",
            "Epoch 9/20\n",
            "128/128 [==============================] - 10s 76ms/step - loss: 0.5914 - accuracy: 0.8976 - val_loss: 0.1312 - val_accuracy: 0.9563\n",
            "Epoch 10/20\n",
            "128/128 [==============================] - 10s 75ms/step - loss: 0.6150 - accuracy: 0.9024 - val_loss: 0.2847 - val_accuracy: 0.8984\n",
            "Epoch 11/20\n",
            "128/128 [==============================] - 10s 75ms/step - loss: 0.6976 - accuracy: 0.8984 - val_loss: 0.1821 - val_accuracy: 0.9563\n",
            "Epoch 12/20\n",
            "128/128 [==============================] - 10s 74ms/step - loss: 0.8515 - accuracy: 0.9043 - val_loss: 0.1302 - val_accuracy: 0.9563\n",
            "Epoch 13/20\n",
            "128/128 [==============================] - 10s 76ms/step - loss: 0.7335 - accuracy: 0.9063 - val_loss: 0.1636 - val_accuracy: 0.9578\n",
            "Epoch 14/20\n",
            "128/128 [==============================] - 9s 74ms/step - loss: 0.5064 - accuracy: 0.9039 - val_loss: 0.1645 - val_accuracy: 0.9547\n",
            "Epoch 15/20\n",
            "128/128 [==============================] - 10s 74ms/step - loss: 0.3777 - accuracy: 0.9212 - val_loss: 0.1265 - val_accuracy: 0.9531\n",
            "Epoch 16/20\n",
            "128/128 [==============================] - 10s 74ms/step - loss: 0.4733 - accuracy: 0.9157 - val_loss: 0.1547 - val_accuracy: 0.9406\n",
            "Epoch 17/20\n",
            "128/128 [==============================] - 10s 74ms/step - loss: 0.6806 - accuracy: 0.9067 - val_loss: 0.1682 - val_accuracy: 0.9563\n",
            "Epoch 18/20\n",
            "128/128 [==============================] - 10s 75ms/step - loss: 0.4032 - accuracy: 0.9169 - val_loss: 0.1435 - val_accuracy: 0.9484\n",
            "Epoch 19/20\n",
            "128/128 [==============================] - 10s 77ms/step - loss: 0.4527 - accuracy: 0.9122 - val_loss: 0.1949 - val_accuracy: 0.9500\n",
            "Epoch 20/20\n",
            "128/128 [==============================] - 10s 76ms/step - loss: 0.3856 - accuracy: 0.9255 - val_loss: 0.1568 - val_accuracy: 0.9563\n"
          ],
          "name": "stdout"
        }
      ]
    },
    {
      "cell_type": "code",
      "metadata": {
        "id": "SPXU7YL1YYzu"
      },
      "source": [
        "TEST_STEPS = 40"
      ],
      "execution_count": null,
      "outputs": []
    },
    {
      "cell_type": "code",
      "metadata": {
        "id": "BXgI0V1EYa4I",
        "outputId": "0f389735-6eaf-42d1-ccfc-b4a03c8cc616",
        "colab": {
          "base_uri": "https://localhost:8080/",
          "height": 34
        }
      },
      "source": [
        "test_loss, test_accuracy = model.evaluate(test_dataset,\n",
        "                                          steps = TEST_STEPS)"
      ],
      "execution_count": null,
      "outputs": [
        {
          "output_type": "stream",
          "text": [
            "40/40 [==============================] - 2s 60ms/step - loss: 0.1120 - accuracy: 0.9550\n"
          ],
          "name": "stdout"
        }
      ]
    },
    {
      "cell_type": "code",
      "metadata": {
        "id": "s7BrSRkDYeMP",
        "outputId": "925f24f9-a970-47fc-864e-6a8d9a4c06d2",
        "colab": {
          "base_uri": "https://localhost:8080/",
          "height": 52
        }
      },
      "source": [
        "print(\"Test loss: \", test_loss)\n",
        "print(\"Test accuracy:\", test_accuracy)"
      ],
      "execution_count": null,
      "outputs": [
        {
          "output_type": "stream",
          "text": [
            "Test loss:  0.11196055263280869\n",
            "Test accuracy: 0.9549999833106995\n"
          ],
          "name": "stdout"
        }
      ]
    },
    {
      "cell_type": "markdown",
      "metadata": {
        "id": "_mxeg_hxYjTm"
      },
      "source": [
        "### Plotting the Training and Validation"
      ]
    },
    {
      "cell_type": "code",
      "metadata": {
        "id": "7YZGDoWFYi5G",
        "outputId": "e4cd10a8-00ec-45b9-ff6e-bedb31294e37",
        "colab": {
          "base_uri": "https://localhost:8080/",
          "height": 545
        }
      },
      "source": [
        "import matplotlib.pyplot as plt\n",
        "\n",
        "acc = history.history['accuracy']\n",
        "val_acc = history.history['val_accuracy']\n",
        "loss = history.history['loss']\n",
        "val_loss = history.history['val_loss']\n",
        "\n",
        "epochs = range(1,len(acc) + 1)\n",
        "\n",
        "plt.plot(epochs,acc,'b',label = 'Training acc')\n",
        "plt.plot(epochs,val_acc,'r',label = 'Validation acc')\n",
        "plt.title('Training Accuracy')\n",
        "plt.legend()\n",
        "\n",
        "plt.figure()\n",
        "\n",
        "plt.plot(epochs,loss,'b',label = 'Training loss')\n",
        "plt.plot(epochs,val_loss,'r',label = 'Validation loss')\n",
        "plt.title('Training and Validation loss')\n",
        "plt.legend()\n",
        "\n",
        "plt.show()"
      ],
      "execution_count": null,
      "outputs": [
        {
          "output_type": "display_data",
          "data": {
            "image/png": "[encoded data removed]",
            "text/plain": [
              "<Figure size 432x288 with 1 Axes>"
            ]
          },
          "metadata": {
            "tags": [],
            "needs_background": "light"
          }
        },
        {
          "output_type": "display_data",
          "data": {
            "image/png": "[encoded data removed]",
            "text/plain": [
              "<Figure size 432x288 with 1 Axes>"
            ]
          },
          "metadata": {
            "tags": [],
            "needs_background": "light"
          }
        }
      ]
    },
    {
      "cell_type": "markdown",
      "metadata": {
        "id": "OAA5aZ14-qVr"
      },
      "source": [
        "## Take 2"
      ]
    },
    {
      "cell_type": "code",
      "metadata": {
        "id": "f0oaKLQgAD8a"
      },
      "source": [
        "model = tf.keras.Sequential([\n",
        "        layers.InputLayer(input_shape=(20, 10), name=\"input\"),\n",
        "        layers.Flatten(input_shape=(20, 10),name=\"flatten\"),\n",
        "        layers.Dropout(0.2, name = \"dropout1\"),\n",
        "        layers.Dense(128, activation=\"relu\",name = \"DenseOne\"),\n",
        "        layers.Dropout(0.2, name = \"dropout2\"),\n",
        "        layers.Dense(256,activation = \"relu\", name = \"DenseTwo\"),\n",
        "        layers.Dense(10, activation=\"softmax\",name=\"output\")\n",
        "    ],\n",
        "        name=\"DeepController\")\n",
        "model.summary()"
      ],
      "execution_count": null,
      "outputs": []
    },
    {
      "cell_type": "code",
      "metadata": {
        "id": "qiLvg7qKAQzM"
      },
      "source": [
        "model.compile(loss = \"sparse_categorical_crossentropy\",\n",
        "              optimizer = \"adam\",\n",
        "              metrics = [\"accuracy\"]) "
      ],
      "execution_count": null,
      "outputs": []
    },
    {
      "cell_type": "code",
      "metadata": {
        "id": "OXOxjk4j-p1z"
      },
      "source": [
        "def exponential_decay(lr0,s):\n",
        "    def exponential_decay_fn(epoch):\n",
        "        return lr0 * 0.1 **(epoch/s) \n",
        "    return exponential_decay_dn\n",
        "\n",
        "\n",
        "exponential_decay_fn = exponential_decay(0.01,20)\n",
        "\n",
        "lr_scheduler = tf.keras.callbacks.LearningRateScheduler(exponential_decay_fn)\n",
        "\n",
        "checkpoint_cb = tf.keras.callbacks.ModelCheckpoint('Gesture_Model.h5',\n",
        "                                                  save_best_only = True)\n",
        "\n",
        "early_stopping_cb = tf.keras.callbacks.EarlyStopping(patience = 10,\n",
        "                                                    restore_best_weights = True)"
      ],
      "execution_count": null,
      "outputs": []
    },
    {
      "cell_type": "code",
      "metadata": {
        "id": "lfYMUtUx-tGC"
      },
      "source": [
        "history = model.fit(train_dataset,\n",
        "                    steps_per_epoch = STEPS_PER_EPOCH, # steps_per_epoch = batch_size*steps\n",
        "                    epochs = EPOCHS,\n",
        "                    callbacks = [checkpoint_cb,early_stopping_cb,lr_scheduler],\n",
        "                    validation_data = val_dataset,\n",
        "                    validation_steps = VALIDATION_STEPS # validation_steps = batch_size*steps\n",
        "                    )"
      ],
      "execution_count": null,
      "outputs": []
    },
    {
      "cell_type": "code",
      "metadata": {
        "id": "1Ha-RgkZAUxV"
      },
      "source": [
        "test_loss, test_accuracy = model.evaluate(test_dataset,\n",
        "                                          steps = TEST_STEPS)"
      ],
      "execution_count": null,
      "outputs": []
    },
    {
      "cell_type": "code",
      "metadata": {
        "id": "hfRkcCAdAUxf"
      },
      "source": [
        "print(\"Test loss: \", test_loss)\n",
        "print(\"Test accuracy:\", test_accuracy)"
      ],
      "execution_count": null,
      "outputs": []
    },
    {
      "cell_type": "code",
      "metadata": {
        "id": "QKvHGyHu7m1v"
      },
      "source": [
        "import matplotlib.pyplot as plt\n",
        "\n",
        "acc = history.history['accuracy']\n",
        "val_acc = history.history['val_accuracy']\n",
        "loss = history.history['loss']\n",
        "val_loss = history.history['val_loss']\n",
        "\n",
        "epochs = range(1,len(acc) + 1)\n",
        "\n",
        "plt.plot(epochs,acc,'b',label = 'Training acc')\n",
        "plt.plot(epochs,val_acc,'r',label = 'Validation acc')\n",
        "plt.title('Training Accuracy')\n",
        "plt.legend()\n",
        "\n",
        "plt.figure()\n",
        "\n",
        "plt.plot(epochs,loss,'b',label = 'Training loss')\n",
        "plt.plot(epochs,val_loss,'r',label = 'Validation loss')\n",
        "plt.title('Training and Validation loss')\n",
        "plt.legend()\n",
        "\n",
        "plt.show()"
      ],
      "execution_count": null,
      "outputs": []
    },
    {
      "cell_type": "markdown",
      "metadata": {
        "id": "h1eNL9D8ZFpZ"
      },
      "source": [
        "# <h1 align=\"center\">Exporting the Model Using ONNX</h1>"
      ]
    },
    {
      "cell_type": "markdown",
      "metadata": {
        "id": "hUglYHjhZNe0"
      },
      "source": [
        "<div class = \"row\" align=\"middle\">\n",
        "  <div class=\"column\">\n",
        "<img src=\"https://raw.githubusercontent.com/ShayanRiyaz/My-Technical-Workshops/master/Deep-Learning-Robotics-Workshop/assets/onnx.png\" width=\"250\" >\n",
        "  </div>\n",
        "\n",
        "</div>\n"
      ]
    },
    {
      "cell_type": "markdown",
      "metadata": {
        "id": "5P7ob6A2YyI1"
      },
      "source": [
        "### Step 1: Convert the model into a frozen graph format.\n"
      ]
    },
    {
      "cell_type": "code",
      "metadata": {
        "id": "xfNNDYwyaMRe"
      },
      "source": [
        "from tensorflow.python.framework.convert_to_constants import convert_variables_to_constants_v2\n",
        "from pathlib import Path"
      ],
      "execution_count": null,
      "outputs": []
    },
    {
      "cell_type": "code",
      "metadata": {
        "id": "VrlMeaTqY5XJ"
      },
      "source": [
        "Path(\"./models/\").mkdir(parents=True, exist_ok=True)"
      ],
      "execution_count": null,
      "outputs": []
    },
    {
      "cell_type": "code",
      "metadata": {
        "id": "WjpjfHioY6eV"
      },
      "source": [
        "# Save model to SavedModel format\n",
        "tf.saved_model.save(model, \"./models\")"
      ],
      "execution_count": null,
      "outputs": []
    },
    {
      "cell_type": "code",
      "metadata": {
        "id": "vKWQ3u9EY7o8"
      },
      "source": [
        "# Convert Keras model to ConcreteFunction\n",
        "full_model = tf.function(lambda x: model(x))\n",
        "full_model = full_model.get_concrete_function(\n",
        "tf.TensorSpec(model.inputs[0].shape, model.inputs[0].dtype))"
      ],
      "execution_count": null,
      "outputs": []
    },
    {
      "cell_type": "code",
      "metadata": {
        "id": "zkc-WHF9Y-Oo"
      },
      "source": [
        "# Get frozen ConcreteFunction\n",
        "frozen_func = convert_variables_to_constants_v2(full_model)\n",
        "frozen_func.graph.as_graph_def()"
      ],
      "execution_count": null,
      "outputs": []
    },
    {
      "cell_type": "code",
      "metadata": {
        "id": "aI-IsuDPZByp"
      },
      "source": [
        "layers = [op.name for op in frozen_func.graph.get_operations()]\n",
        "print(\"-\" * 50)\n",
        "print(\"Frozen model layers: \")\n",
        "for layer in layers:\n",
        "    print(layer)"
      ],
      "execution_count": null,
      "outputs": []
    },
    {
      "cell_type": "code",
      "metadata": {
        "id": "64jr0MqUZaV3"
      },
      "source": [
        "print(\"-\" * 50)\n",
        "print(\"Frozen model inputs: \")\n",
        "print(frozen_func.inputs)\n",
        "print(\"Frozen model outputs: \")\n",
        "print(frozen_func.outputs)"
      ],
      "execution_count": null,
      "outputs": []
    },
    {
      "cell_type": "code",
      "metadata": {
        "id": "xi03d0vTZbGM"
      },
      "source": [
        "# Save frozen graph from frozen ConcreteFunction to hard drive\n",
        "tf.io.write_graph(graph_or_graph_def=frozen_func.graph,\n",
        "                  logdir=\"./frozen_models\",\n",
        "                  name=\"frozen_graph.pb\",\n",
        "                  as_text=False)"
      ],
      "execution_count": null,
      "outputs": []
    },
    {
      "cell_type": "markdown",
      "metadata": {
        "id": "UteaycBSZjQB"
      },
      "source": [
        "### Step 2 : Convert the Frozen graph model to an ONNX file"
      ]
    },
    {
      "cell_type": "code",
      "metadata": {
        "id": "ZuQ0Ph2wZpJs"
      },
      "source": [
        "!git clone https://github.com/onnx/tensorflow-onnx "
      ],
      "execution_count": null,
      "outputs": []
    },
    {
      "cell_type": "code",
      "metadata": {
        "id": "szZtdevMZqZZ"
      },
      "source": [
        "!python setup.py install\n"
      ],
      "execution_count": null,
      "outputs": []
    },
    {
      "cell_type": "code",
      "metadata": {
        "id": "cNF99o_fZrxA"
      },
      "source": [
        " !python -m tf2onnx.convert --input \"frozen_models/frozen_graph.pb\" --output model.onnx --outputs Identity:0 --inputs x:0"
      ],
      "execution_count": null,
      "outputs": []
    },
    {
      "cell_type": "markdown",
      "metadata": {
        "id": "pgbBL_jzGev1"
      },
      "source": [
        "# <h1 align=\"center\">Inference in Unity</h1>"
      ]
    },
    {
      "cell_type": "markdown",
      "metadata": {
        "id": "AT5_XQVwHKQm"
      },
      "source": [
        "\n",
        "<div class = \"row\" align=\"middle\">\n",
        "  <div class=\"column\">\n",
        "<img src=\"https://raw.githubusercontent.com/ShayanRiyaz/My-Technical-Workshops/master/Deep-Learning-Robotics-Workshop/assets/Unity.png\" width=\"100\" >\n",
        "  </div>\n",
        "\n",
        "</div>\n",
        "\n"
      ]
    },
    {
      "cell_type": "markdown",
      "metadata": {
        "id": "jrx1766CGYmG"
      },
      "source": [
        "\n",
        "``` \n",
        "// C#\n",
        "    void RunningModel()\n",
        "    {\n",
        "        m_RuntimeModel = ModelLoader.Load(m_Model);\n",
        "        m_Worker = WorkerFactory.CreateWorker(WorkerFactory.Type.CSharp, m_RuntimeModel);\n",
        "\n",
        "        m_input = new Tensor(20, 10, f_data);\n",
        "\n",
        "        m_Worker.Execute(m_input);\n",
        "        Tensor result = m_Worker.CopyOutput();\n",
        "\n",
        "        float maxResult = 0.0f;\n",
        "        for (int i = 0; i < 10; ++i)\n",
        "        {\n",
        "            if (result[i] > maxResult)\n",
        "            {\n",
        "                maxResult = result[i];\n",
        "                maxIndex = i;\n",
        "            }\n",
        "        }\n",
        "    }\n",
        "```"
      ]
    },
    {
      "cell_type": "markdown",
      "metadata": {
        "id": "xhpt8Y9Zz9TM"
      },
      "source": [
        "Books I would recommend:\n",
        "- [Hands on Machine Learning with Sci-kit Learn and Tensorflow](https://www.oreilly.com/library/view/hands-on-machine-learning/9781492032632/)\n",
        "- [Building Machine Learning Pipelines](https://www.oreilly.com/library/view/building-machine-learning/9781492053187/)\n",
        "- [Deep Learning for Coders with fastai and PyTorch](https://www.oreilly.com/library/view/deep-learning-for/9781492045519/)"
      ]
    },
    {
      "cell_type": "markdown",
      "metadata": {
        "id": "kUYKEzX803m7"
      },
      "source": [
        "### Check out this video below. It was by a MLH Fellow from a previous batch. (Click On the Julia image)"
      ]
    },
    {
      "cell_type": "markdown",
      "metadata": {
        "id": "KY-2GGqdylVz"
      },
      "source": [
        "[![Everything Is AWESOME](https://upload.wikimedia.org/wikipedia/commons/thumb/1/1f/Julia_Programming_Language_Logo.svg/220px-Julia_Programming_Language_Logo.svg.png)](https://www.youtube.com/watch?v=2yrWGtQ9_Yo \"Everything Is AWESOME\")\n"
      ]
    },
    {
      "cell_type": "markdown",
      "metadata": {
        "id": "O3D4VGNbDJIM"
      },
      "source": [
        "# Resources:\n",
        "- [Efficiently Reading Multiple Files in TensorFlow](https://biswajitsahoo1111.github.io/post/efficiently-reading-multiple-files-in-tensorflow-2/)\n",
        "- [Save Load Inference from TF2 Frozen Graph](https://leimao.github.io/blog/Save-Load-Inference-From-TF2-Frozen-Graph/)\n",
        "- [What is an IMU sensor](https://www.ceva-dsp.com/ourblog/what-is-an-imu-sensor/)\n",
        "- [Narrow AI](https://deepai.org/machine-learning-glossary-and-terms/narrow-ai)"
      ]
    }
  ]
}